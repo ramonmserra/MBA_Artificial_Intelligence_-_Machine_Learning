{
  "nbformat": 4,
  "nbformat_minor": 0,
  "metadata": {
    "accelerator": "GPU",
    "colab": {
      "name": "TemplateTrabalhoFinal_NLP.ipynb",
      "provenance": [],
      "collapsed_sections": []
    },
    "kernelspec": {
      "display_name": "Python 3",
      "language": "python",
      "name": "python3"
    },
    "language_info": {
      "codemirror_mode": {
        "name": "ipython",
        "version": 3
      },
      "file_extension": ".py",
      "mimetype": "text/x-python",
      "name": "python",
      "nbconvert_exporter": "python",
      "pygments_lexer": "ipython3",
      "version": "3.8.5"
    }
  },
  "cells": [
    {
      "cell_type": "markdown",
      "metadata": {
        "id": "VDbi6PDS9MYO"
      },
      "source": [
        "***Participantes (RM - NOME):***<br>\n",
        "Pedro Henrique Araujo Ferreira de Albuquerque - 340900<br>\n",
        "Ramon Vítor Malaquias Serra - 341713<br>"
      ]
    },
    {
      "cell_type": "markdown",
      "metadata": {
        "id": "7xw6WhaNo4k3"
      },
      "source": [
        "###**Criar um classificador de sentimento aplicando técnicas de PLN**\n",
        "---\n",
        "\n",
        "Utilizando o dataset de revisões de filmes em português [1], criar um classificador de sentimentos que consiga um score na métrica F1 Score superior a 70%.\n",
        "\n",
        "Devem utilizar uma amostra de 20% e randon_state igual a 42 para testar as implementações e mensurar a métrica F1 Score (usar o parâmetro average = 'weighted') o restante dos dados devem ser utilizados para o treinamento (80%).\n",
        "\n",
        "Fique a vontade para testar os métodos de pré-processamento, abordagens, algoritmos e bibliotecas, mas explique e justifique suas decisões.\n",
        "O trabalho poderá ser feito em grupo de até 4 pessoas (mesmo grupo do Startup One).\n",
        "\n",
        "Separe a implementação do seu modelo campeão junto com a parte de validação/teste de forma que o professor consiga executar todo o pipeline do modelo campeão.\n",
        "\n",
        "Composição da nota:\n",
        "- 50% - Demonstrações das aplicações das técnicas de PLN (regras, pré-processamentos, tratamentos, variedade de modelos aplicados, etc.)\n",
        "- 50% - Baseado na performance obtida com o dataset de teste (conforme recomendação da amostra) no seu modelo campeão e na validação que o professor processar (Métrica F1 Score)."
      ]
    },
    {
      "cell_type": "markdown",
      "metadata": {
        "id": "fzhQpodBpRpX"
      },
      "source": [
        "[1] - https://dados-ml-pln.s3-sa-east-1.amazonaws.com/reviews-pt-br.csv"
      ]
    },
    {
      "cell_type": "code",
      "metadata": {
        "id": "DMBI8SQtps1n"
      },
      "source": [
        "# CARREGANDO O DATA FRAME\n",
        "import pandas as pd\n",
        "df = pd.read_csv('https://dados-ml-pln.s3-sa-east-1.amazonaws.com/reviews-pt-br.csv', encoding='utf-8')"
      ],
      "execution_count": null,
      "outputs": []
    },
    {
      "cell_type": "code",
      "metadata": {
        "colab": {
          "base_uri": "https://localhost:8080/"
        },
        "id": "s__lBzDQwrcG",
        "outputId": "5417b3d0-f31a-4a1a-98ac-32d8962e3b47"
      },
      "source": [
        "df.info()"
      ],
      "execution_count": null,
      "outputs": [
        {
          "name": "stdout",
          "output_type": "stream",
          "text": [
            "<class 'pandas.core.frame.DataFrame'>\n",
            "RangeIndex: 44514 entries, 0 to 44513\n",
            "Data columns (total 3 columns):\n",
            " #   Column      Non-Null Count  Dtype \n",
            "---  ------      --------------  ----- \n",
            " 0   codigo      44514 non-null  int64 \n",
            " 1   texto       44514 non-null  object\n",
            " 2   sentimento  44514 non-null  object\n",
            "dtypes: int64(1), object(2)\n",
            "memory usage: 1.0+ MB\n"
          ]
        }
      ]
    },
    {
      "cell_type": "code",
      "metadata": {
        "colab": {
          "base_uri": "https://localhost:8080/"
        },
        "id": "3JWLk3bQVz-m",
        "outputId": "771c9cb7-7629-45d7-d365-5a87e0a07ab4"
      },
      "source": [
        "df.isnull().sum() # Sem incidência de nulos"
      ],
      "execution_count": null,
      "outputs": [
        {
          "data": {
            "text/plain": [
              "codigo        0\n",
              "texto         0\n",
              "sentimento    0\n",
              "dtype: int64"
            ]
          },
          "execution_count": 3,
          "metadata": {},
          "output_type": "execute_result"
        }
      ]
    },
    {
      "cell_type": "markdown",
      "metadata": {
        "id": "FyKC9Vhkp0BK"
      },
      "source": [
        "Bom desenvolvimento!"
      ]
    },
    {
      "cell_type": "markdown",
      "metadata": {
        "id": "GekSuJb8Vz-n"
      },
      "source": [
        "### Checamos a quantidade de registros do DF"
      ]
    },
    {
      "cell_type": "code",
      "metadata": {
        "colab": {
          "base_uri": "https://localhost:8080/"
        },
        "id": "nze8UbKhosm9",
        "outputId": "b08e4b8f-b2e7-4a32-9ba7-560c97917cab"
      },
      "source": [
        "print(f'O dataframe possui {df.shape[0]} linhas e {df.shape[1]} colunas')"
      ],
      "execution_count": null,
      "outputs": [
        {
          "name": "stdout",
          "output_type": "stream",
          "text": [
            "O dataframe possui 44514 linhas e 3 colunas\n"
          ]
        }
      ]
    },
    {
      "cell_type": "markdown",
      "metadata": {
        "id": "FNRnzQlzVz-o"
      },
      "source": [
        "### Checamos a quantidade de registros negativos e positivos do DF"
      ]
    },
    {
      "cell_type": "code",
      "metadata": {
        "colab": {
          "base_uri": "https://localhost:8080/"
        },
        "id": "ue0nV0uVo3OZ",
        "outputId": "f750deee-46c4-4956-8c5c-35c9f7042a4a"
      },
      "source": [
        "sentimentos = df['sentimento'].value_counts()\n",
        "\n",
        "print(f'O dataframe possui {sentimentos[0]} sentimentos negativos e {sentimentos[1]} sentimentos positivos')"
      ],
      "execution_count": null,
      "outputs": [
        {
          "name": "stdout",
          "output_type": "stream",
          "text": [
            "O dataframe possui 22307 sentimentos negativos e 22207 sentimentos positivos\n"
          ]
        }
      ]
    },
    {
      "cell_type": "code",
      "metadata": {
        "colab": {
          "base_uri": "https://localhost:8080/",
          "height": 237
        },
        "id": "PTS_ajEiVz-q",
        "outputId": "83f33061-97ca-4633-9c56-3bede0ba6e87"
      },
      "source": [
        "# Sentimentos (positivo/negativo) dispostos num gráfico\n",
        "df['sentimento'].value_counts().plot(kind='bar', figsize=(3, 3))"
      ],
      "execution_count": null,
      "outputs": [
        {
          "data": {
            "text/plain": [
              "<matplotlib.axes._subplots.AxesSubplot at 0x7f76f6debed0>"
            ]
          },
          "execution_count": 6,
          "metadata": {},
          "output_type": "execute_result"
        },
        {
          "data": {
            "image/png": "[encoded data removed]",
            "text/plain": [
              "<Figure size 216x216 with 1 Axes>"
            ]
          },
          "metadata": {},
          "output_type": "display_data"
        }
      ]
    },
    {
      "cell_type": "markdown",
      "metadata": {
        "id": "YHqGqncDVz-q"
      },
      "source": [
        "# Análise de N-Gramas"
      ]
    },
    {
      "cell_type": "code",
      "metadata": {
        "colab": {
          "background_save": true,
          "base_uri": "https://localhost:8080/"
        },
        "id": "1Dulr3j4Vz-r",
        "outputId": "dbc6d08a-d5f6-44a4-8ce7-e2a2aadb1fff"
      },
      "source": [
        "import nltk\n",
        "nltk.download('stopwords')\n",
        "from sklearn.feature_extraction.text import CountVectorizer\n",
        "\n",
        "stop_words = nltk.corpus.stopwords.words('portuguese')\n",
        "\n",
        "# Função que define os N-Gramas para análise e retorna a sua quantidade\n",
        "def n_gramas(data, ngram, stop_words=None):\n",
        "    vect = CountVectorizer(ngram_range=ngram, stop_words=stop_words)\n",
        "    vect.fit(df.texto)\n",
        "    text_vect = vect.transform(data)\n",
        "    return text_vect.shape[1]\n",
        "    \n",
        "print('Carregando as análises ...')\n",
        "print('Unigramas COM stopwords: ', n_gramas(df.texto, (1, 1)))\n",
        "print('Unigramas SEM stopwords: ', n_gramas(df.texto, (1, 1), stop_words))\n",
        "print('Bigramas COM stopwords: ', n_gramas(df.texto, (2, 2)))\n",
        "print('Bigramas SEM stopwords: ', n_gramas(df.texto, (2, 2), stop_words))\n",
        "print('Trigramas COM stopwords: ', n_gramas(df.texto, (3, 3)))\n",
        "print('Trigramas SEM stopwords: ', n_gramas(df.texto, (3, 3), stop_words))\n",
        "print('Finalizou!')"
      ],
      "execution_count": null,
      "outputs": [
        {
          "name": "stdout",
          "output_type": "stream",
          "text": [
            "[nltk_data] Downloading package stopwords to /root/nltk_data...\n",
            "[nltk_data]   Unzipping corpora/stopwords.zip.\n",
            "Carregando as análises ...\n",
            "Unigramas COM stopwords:  124169\n",
            "Unigramas SEM stopwords:  123994\n",
            "Bigramas COM stopwords:  2306574\n",
            "Bigramas SEM stopwords:  2910091\n",
            "Trigramas COM stopwords:  5632852\n",
            "Trigramas SEM stopwords:  4841031\n",
            "Finalizou!\n"
          ]
        }
      ]
    },
    {
      "cell_type": "markdown",
      "metadata": {
        "id": "hCCAJeiNVz-r"
      },
      "source": [
        "# Tokenização"
      ]
    },
    {
      "cell_type": "code",
      "metadata": {
        "colab": {
          "base_uri": "https://localhost:8080/",
          "height": 241
        },
        "id": "T2kceLcFVz-s",
        "outputId": "f1739d2b-ca04-4937-fe0d-422fdb459b79"
      },
      "source": [
        "import nltk\n",
        "nltk.download('punkt')\n",
        "from nltk.tokenize import word_tokenize\n",
        "\n",
        "df['token'] = df.texto.apply(word_tokenize)\n",
        "df[['token', 'texto']].head(5)"
      ],
      "execution_count": null,
      "outputs": [
        {
          "name": "stdout",
          "output_type": "stream",
          "text": [
            "[nltk_data] Downloading package punkt to /root/nltk_data...\n",
            "[nltk_data]   Unzipping tokenizers/punkt.zip.\n"
          ]
        },
        {
          "data": {
            "text/html": [
              "<div>\n",
              "<style scoped>\n",
              "    .dataframe tbody tr th:only-of-type {\n",
              "        vertical-align: middle;\n",
              "    }\n",
              "\n",
              "    .dataframe tbody tr th {\n",
              "        vertical-align: top;\n",
              "    }\n",
              "\n",
              "    .dataframe thead th {\n",
              "        text-align: right;\n",
              "    }\n",
              "</style>\n",
              "<table border=\"1\" class=\"dataframe\">\n",
              "  <thead>\n",
              "    <tr style=\"text-align: right;\">\n",
              "      <th></th>\n",
              "      <th>token</th>\n",
              "      <th>texto</th>\n",
              "    </tr>\n",
              "  </thead>\n",
              "  <tbody>\n",
              "    <tr>\n",
              "      <th>0</th>\n",
              "      <td>[Esse, bocejo, de, pia, de, cozinha, de, orçam...</td>\n",
              "      <td>Esse bocejo de pia de cozinha de orçamento mui...</td>\n",
              "    </tr>\n",
              "    <tr>\n",
              "      <th>1</th>\n",
              "      <td>[O, Bravo, parece, indicar, que, o, personagem...</td>\n",
              "      <td>O Bravo parece indicar que o personagem princi...</td>\n",
              "    </tr>\n",
              "    <tr>\n",
              "      <th>2</th>\n",
              "      <td>[Durante, a, Guerra, pela, Independência, do, ...</td>\n",
              "      <td>Durante a Guerra pela Independência do Sul, GE...</td>\n",
              "    </tr>\n",
              "    <tr>\n",
              "      <th>3</th>\n",
              "      <td>[É, fora, de, questão, que, a, verdadeira, Ann...</td>\n",
              "      <td>É fora de questão que a verdadeira Anna Anders...</td>\n",
              "    </tr>\n",
              "    <tr>\n",
              "      <th>4</th>\n",
              "      <td>[Concordo, totalmente, com, outro, dos, reviso...</td>\n",
              "      <td>Concordo totalmente com outro dos revisores aq...</td>\n",
              "    </tr>\n",
              "  </tbody>\n",
              "</table>\n",
              "</div>"
            ],
            "text/plain": [
              "                                               token                                              texto\n",
              "0  [Esse, bocejo, de, pia, de, cozinha, de, orçam...  Esse bocejo de pia de cozinha de orçamento mui...\n",
              "1  [O, Bravo, parece, indicar, que, o, personagem...  O Bravo parece indicar que o personagem princi...\n",
              "2  [Durante, a, Guerra, pela, Independência, do, ...  Durante a Guerra pela Independência do Sul, GE...\n",
              "3  [É, fora, de, questão, que, a, verdadeira, Ann...  É fora de questão que a verdadeira Anna Anders...\n",
              "4  [Concordo, totalmente, com, outro, dos, reviso...  Concordo totalmente com outro dos revisores aq..."
            ]
          },
          "execution_count": 7,
          "metadata": {},
          "output_type": "execute_result"
        }
      ]
    },
    {
      "cell_type": "code",
      "metadata": {
        "colab": {
          "base_uri": "https://localhost:8080/"
        },
        "id": "J8ZD7b0TVz-s",
        "outputId": "5d0df458-9588-4081-dc3c-711fa77f4a28"
      },
      "source": [
        "# Este passo demora um pouco devido a quantidade de texto ... No meu computador demorou aprox. 12 minutos\n",
        "import nltk\n",
        "nltk.download('averaged_perceptron_tagger')\n",
        "nltk.download('universal_tagset')\n",
        "from nltk.tag import pos_tag\n",
        "\n",
        "df['tags'] = df['token'].apply(pos_tag, tagset='universal')\n",
        "df['tags'].head()"
      ],
      "execution_count": null,
      "outputs": [
        {
          "name": "stdout",
          "output_type": "stream",
          "text": [
            "[nltk_data] Downloading package averaged_perceptron_tagger to\n",
            "[nltk_data]     /root/nltk_data...\n",
            "[nltk_data]   Unzipping taggers/averaged_perceptron_tagger.zip.\n",
            "[nltk_data] Downloading package universal_tagset to /root/nltk_data...\n",
            "[nltk_data]   Unzipping taggers/universal_tagset.zip.\n"
          ]
        },
        {
          "data": {
            "text/plain": [
              "0    [(Esse, NOUN), (bocejo, NOUN), (de, X), (pia, ...\n",
              "1    [(O, NOUN), (Bravo, NOUN), (parece, NOUN), (in...\n",
              "2    [(Durante, NOUN), (a, DET), (Guerra, NOUN), (p...\n",
              "3    [(É, ADJ), (fora, NOUN), (de, ADP), (questão, ...\n",
              "4    [(Concordo, NOUN), (totalmente, NOUN), (com, N...\n",
              "Name: tags, dtype: object"
            ]
          },
          "execution_count": 11,
          "metadata": {},
          "output_type": "execute_result"
        }
      ]
    },
    {
      "cell_type": "code",
      "metadata": {
        "colab": {
          "base_uri": "https://localhost:8080/"
        },
        "id": "7AHBVeP_biY5",
        "outputId": "696bb48a-3da6-4ea3-b9fe-50bcfe9d8ca0"
      },
      "source": [
        "from collections import Counter\n",
        "counter = Counter()\n",
        "\n",
        "counter['a'] += 2\n",
        "counter\n",
        "\n",
        "counter.update('a')\n",
        "counter.update('b')\n",
        "counter"
      ],
      "execution_count": null,
      "outputs": [
        {
          "data": {
            "text/plain": [
              "Counter({'a': 3, 'b': 1})"
            ]
          },
          "execution_count": 12,
          "metadata": {},
          "output_type": "execute_result"
        }
      ]
    },
    {
      "cell_type": "code",
      "metadata": {
        "id": "l4Xb_jgNcJJO"
      },
      "source": [
        "from collections import Counter\n",
        "\n",
        "counter = Counter()\n",
        "\n",
        "for tags in df.tags:\n",
        "    for word, tag in tags:\n",
        "        counter[tag] += 1"
      ],
      "execution_count": null,
      "outputs": []
    },
    {
      "cell_type": "code",
      "metadata": {
        "colab": {
          "base_uri": "https://localhost:8080/"
        },
        "id": "yQi4HmdEcRZj",
        "outputId": "61783603-8d7a-4133-8d08-b5807adcfc84"
      },
      "source": [
        "counter"
      ],
      "execution_count": null,
      "outputs": [
        {
          "data": {
            "text/plain": [
              "Counter({'.': 1292688,\n",
              "         'ADJ': 1252222,\n",
              "         'ADP': 355344,\n",
              "         'ADV': 69917,\n",
              "         'CONJ': 30425,\n",
              "         'DET': 288532,\n",
              "         'NOUN': 5999053,\n",
              "         'NUM': 55942,\n",
              "         'PRON': 21642,\n",
              "         'PRT': 27027,\n",
              "         'VERB': 768583,\n",
              "         'X': 915357})"
            ]
          },
          "execution_count": 14,
          "metadata": {},
          "output_type": "execute_result"
        }
      ]
    },
    {
      "cell_type": "markdown",
      "metadata": {
        "id": "A_2KvhLlVz-t"
      },
      "source": [
        "# Iniciando o modelo"
      ]
    },
    {
      "cell_type": "markdown",
      "metadata": {
        "id": "AoOmJfWIVz-t"
      },
      "source": [
        "### Transformando 'pos' e 'neg' em 1 e 0 respectivamente"
      ]
    },
    {
      "cell_type": "code",
      "metadata": {
        "colab": {
          "base_uri": "https://localhost:8080/",
          "height": 206
        },
        "id": "FziwgqJmw9OD",
        "outputId": "47b4f2b3-c879-40ad-9092-5b56a50fd1bf"
      },
      "source": [
        "df['sentimento'] = df['sentimento'].map({ 'pos': 1, 'neg': 0 })\n",
        "df.head()"
      ],
      "execution_count": null,
      "outputs": [
        {
          "data": {
            "text/html": [
              "<div>\n",
              "<style scoped>\n",
              "    .dataframe tbody tr th:only-of-type {\n",
              "        vertical-align: middle;\n",
              "    }\n",
              "\n",
              "    .dataframe tbody tr th {\n",
              "        vertical-align: top;\n",
              "    }\n",
              "\n",
              "    .dataframe thead th {\n",
              "        text-align: right;\n",
              "    }\n",
              "</style>\n",
              "<table border=\"1\" class=\"dataframe\">\n",
              "  <thead>\n",
              "    <tr style=\"text-align: right;\">\n",
              "      <th></th>\n",
              "      <th>codigo</th>\n",
              "      <th>texto</th>\n",
              "      <th>sentimento</th>\n",
              "      <th>token</th>\n",
              "      <th>tags</th>\n",
              "    </tr>\n",
              "  </thead>\n",
              "  <tbody>\n",
              "    <tr>\n",
              "      <th>0</th>\n",
              "      <td>1</td>\n",
              "      <td>Esse bocejo de pia de cozinha de orçamento mui...</td>\n",
              "      <td>0</td>\n",
              "      <td>[Esse, bocejo, de, pia, de, cozinha, de, orçam...</td>\n",
              "      <td>[(Esse, NOUN), (bocejo, NOUN), (de, X), (pia, ...</td>\n",
              "    </tr>\n",
              "    <tr>\n",
              "      <th>1</th>\n",
              "      <td>2</td>\n",
              "      <td>O Bravo parece indicar que o personagem princi...</td>\n",
              "      <td>0</td>\n",
              "      <td>[O, Bravo, parece, indicar, que, o, personagem...</td>\n",
              "      <td>[(O, NOUN), (Bravo, NOUN), (parece, NOUN), (in...</td>\n",
              "    </tr>\n",
              "    <tr>\n",
              "      <th>2</th>\n",
              "      <td>3</td>\n",
              "      <td>Durante a Guerra pela Independência do Sul, GE...</td>\n",
              "      <td>1</td>\n",
              "      <td>[Durante, a, Guerra, pela, Independência, do, ...</td>\n",
              "      <td>[(Durante, NOUN), (a, DET), (Guerra, NOUN), (p...</td>\n",
              "    </tr>\n",
              "    <tr>\n",
              "      <th>3</th>\n",
              "      <td>4</td>\n",
              "      <td>É fora de questão que a verdadeira Anna Anders...</td>\n",
              "      <td>1</td>\n",
              "      <td>[É, fora, de, questão, que, a, verdadeira, Ann...</td>\n",
              "      <td>[(É, ADJ), (fora, NOUN), (de, ADP), (questão, ...</td>\n",
              "    </tr>\n",
              "    <tr>\n",
              "      <th>4</th>\n",
              "      <td>5</td>\n",
              "      <td>Concordo totalmente com outro dos revisores aq...</td>\n",
              "      <td>0</td>\n",
              "      <td>[Concordo, totalmente, com, outro, dos, reviso...</td>\n",
              "      <td>[(Concordo, NOUN), (totalmente, NOUN), (com, N...</td>\n",
              "    </tr>\n",
              "  </tbody>\n",
              "</table>\n",
              "</div>"
            ],
            "text/plain": [
              "   codigo  ...                                               tags\n",
              "0       1  ...  [(Esse, NOUN), (bocejo, NOUN), (de, X), (pia, ...\n",
              "1       2  ...  [(O, NOUN), (Bravo, NOUN), (parece, NOUN), (in...\n",
              "2       3  ...  [(Durante, NOUN), (a, DET), (Guerra, NOUN), (p...\n",
              "3       4  ...  [(É, ADJ), (fora, NOUN), (de, ADP), (questão, ...\n",
              "4       5  ...  [(Concordo, NOUN), (totalmente, NOUN), (com, N...\n",
              "\n",
              "[5 rows x 5 columns]"
            ]
          },
          "execution_count": 15,
          "metadata": {},
          "output_type": "execute_result"
        }
      ]
    },
    {
      "cell_type": "markdown",
      "metadata": {
        "id": "pNvikjz9Vz-v"
      },
      "source": [
        "### Vetorização e remoção das StopWords do texto "
      ]
    },
    {
      "cell_type": "code",
      "metadata": {
        "colab": {
          "base_uri": "https://localhost:8080/"
        },
        "id": "25cBRwGAw8-1",
        "outputId": "ae597edc-99b1-4dfc-f41f-b970bd6415a4"
      },
      "source": [
        "import nltk\n",
        "nltk.download('stopwords')\n",
        "from sklearn.feature_extraction.text import CountVectorizer\n",
        "\n",
        "stops = nltk.corpus.stopwords.words('portuguese')\n",
        "\n",
        "vect = CountVectorizer(ngram_range=(1, 1), stop_words=stops) # utilizamos a técnica de unigrama\n",
        "vect.fit(df.texto)\n",
        "texto_vect = vect.transform(df.texto)\n",
        "texto_vect_dl = vect.transform(df.texto)"
      ],
      "execution_count": null,
      "outputs": [
        {
          "name": "stdout",
          "output_type": "stream",
          "text": [
            "[nltk_data] Downloading package stopwords to /root/nltk_data...\n",
            "[nltk_data]   Package stopwords is already up-to-date!\n"
          ]
        }
      ]
    },
    {
      "cell_type": "markdown",
      "metadata": {
        "id": "05Qt8ZRpVz-w"
      },
      "source": [
        "### Treinamento do modelo utilizando 20% para teste e 80% para treino"
      ]
    },
    {
      "cell_type": "code",
      "metadata": {
        "id": "rb7jerveVz-w"
      },
      "source": [
        "from sklearn.model_selection import train_test_split\n",
        "\n",
        "X_train, X_test, y_train, y_test = train_test_split(\n",
        "    texto_vect,\n",
        "    df['sentimento'],\n",
        "    test_size = 0.2,\n",
        "    random_state = 42\n",
        ")"
      ],
      "execution_count": null,
      "outputs": []
    },
    {
      "cell_type": "code",
      "metadata": {
        "id": "Rynap2ouVz-x"
      },
      "source": [
        "from sklearn.linear_model import LogisticRegression\n",
        "\n",
        "train = LogisticRegression(random_state=0, solver='newton-cg') # 'newton-cg' = Algoritmo a ser usado no problema de otimização\n",
        "train = train.fit(X_train, y_train)"
      ],
      "execution_count": null,
      "outputs": []
    },
    {
      "cell_type": "code",
      "metadata": {
        "colab": {
          "base_uri": "https://localhost:8080/"
        },
        "id": "YPuFfxRiVz-x",
        "outputId": "caa0711a-654b-4c3c-c854-66316db1462d"
      },
      "source": [
        "from sklearn.metrics import f1_score\n",
        "\n",
        "y_prediction = train.predict(X_test)\n",
        "f1 = f1_score(y_prediction, y_test, average='weighted')\n",
        "\n",
        "print('O modelo performou em: ', f1)"
      ],
      "execution_count": null,
      "outputs": [
        {
          "name": "stdout",
          "output_type": "stream",
          "text": [
            "O modelo performou em:  0.8788059889465184\n"
          ]
        }
      ]
    },
    {
      "cell_type": "markdown",
      "metadata": {
        "id": "7eVutly2Wtz2"
      },
      "source": [
        "Utilizando LSTM"
      ]
    },
    {
      "cell_type": "code",
      "metadata": {
        "colab": {
          "base_uri": "https://localhost:8080/"
        },
        "id": "SmrCjZtPSjHw",
        "outputId": "4e78f394-96d5-4403-a10c-40615ec346c2"
      },
      "source": [
        "import pandas as pd\n",
        "from sklearn.model_selection import train_test_split\n",
        "\n",
        "df_dl = pd.read_csv('https://dados-ml-pln.s3-sa-east-1.amazonaws.com/reviews-pt-br.csv', encoding='utf-8')\n",
        "\n",
        "train_data, test_data = train_test_split(df_dl, test_size=0.2,\n",
        "                                         random_state=42) \n",
        "print(\"Tamanho dos dados de treino:\", len(train_data))\n",
        "print(\"Tamanho dos dados de teste\", len(test_data))"
      ],
      "execution_count": null,
      "outputs": [
        {
          "output_type": "stream",
          "name": "stdout",
          "text": [
            "Tamanho dos dados de treino: 35611\n",
            "Tamanho dos dados de teste 8903\n"
          ]
        }
      ]
    },
    {
      "cell_type": "markdown",
      "metadata": {
        "id": "w-sSOuK31wnm"
      },
      "source": [
        "Tokenização dos dados"
      ]
    },
    {
      "cell_type": "code",
      "metadata": {
        "id": "U5ijc4ZNHocI",
        "colab": {
          "base_uri": "https://localhost:8080/"
        },
        "outputId": "0496d357-4e2c-481b-868e-0ffb718f39f6"
      },
      "source": [
        "from keras.preprocessing.text import Tokenizer\n",
        "\n",
        "tokenizer = Tokenizer()\n",
        "tokenizer.fit_on_texts(train_data.texto)\n",
        "\n",
        "word_index = tokenizer.word_index\n",
        "vocab_size = len(tokenizer.word_index) + 1\n",
        "print(\"tamanho do vocabulario :\", vocab_size)"
      ],
      "execution_count": null,
      "outputs": [
        {
          "output_type": "stream",
          "name": "stdout",
          "text": [
            "tamanho do vocabulario : 114096\n"
          ]
        }
      ]
    },
    {
      "cell_type": "code",
      "metadata": {
        "id": "T6PC49sTI2ck",
        "colab": {
          "base_uri": "https://localhost:8080/"
        },
        "outputId": "bfd2d19c-132e-483b-f5cc-ece3e4e8fe61"
      },
      "source": [
        "from keras.preprocessing.sequence import pad_sequences\n",
        "\n",
        "x_train = pad_sequences(tokenizer.texts_to_sequences(train_data.texto),\n",
        "                        maxlen = 30)\n",
        "x_test = pad_sequences(tokenizer.texts_to_sequences(test_data.texto),\n",
        "                       maxlen = 30)\n",
        "\n",
        "print(\"X de treino:\",x_train.shape)\n",
        "print(\"X de teste:\",x_test.shape)"
      ],
      "execution_count": null,
      "outputs": [
        {
          "output_type": "stream",
          "name": "stdout",
          "text": [
            "X de treino: (35611, 30)\n",
            "X de teste: (8903, 30)\n"
          ]
        }
      ]
    },
    {
      "cell_type": "code",
      "metadata": {
        "id": "O5dTE5Dg2lx0"
      },
      "source": [
        "labels = train_data.sentimento.unique().tolist()"
      ],
      "execution_count": null,
      "outputs": []
    },
    {
      "cell_type": "markdown",
      "metadata": {
        "id": "44cveipF2485"
      },
      "source": [
        "Codificando os rotulos para 0 e 1"
      ]
    },
    {
      "cell_type": "code",
      "metadata": {
        "colab": {
          "base_uri": "https://localhost:8080/"
        },
        "id": "QzcU8fUy2_2k",
        "outputId": "0405fd0f-fd96-4e54-b3f5-d297ae8680ba"
      },
      "source": [
        "from sklearn.preprocessing import LabelEncoder\n",
        "\n",
        "encoder = LabelEncoder()\n",
        "encoder.fit(train_data.sentimento.to_list())\n",
        "\n",
        "y_train = encoder.transform(train_data.sentimento.to_list())\n",
        "y_test = encoder.transform(test_data.sentimento.to_list())\n",
        "\n",
        "y_train = y_train.reshape(-1,1)\n",
        "y_test = y_test.reshape(-1,1)\n",
        "\n",
        "print(\"Y de treino:\", y_train.shape)\n",
        "print(\"Y de teste:\", y_test.shape)"
      ],
      "execution_count": null,
      "outputs": [
        {
          "output_type": "stream",
          "name": "stdout",
          "text": [
            "Y de treino: (35611, 1)\n",
            "Y de teste: (8903, 1)\n"
          ]
        }
      ]
    },
    {
      "cell_type": "markdown",
      "metadata": {
        "id": "Dtb3ZkX54lAf"
      },
      "source": [
        "Usando Transfer Learning para o treinamento da camada de incorporação"
      ]
    },
    {
      "cell_type": "code",
      "metadata": {
        "colab": {
          "base_uri": "https://localhost:8080/"
        },
        "id": "oZgnDCPi4XA3",
        "outputId": "2fc82ebb-b5d8-446d-e068-90762dbc4b43"
      },
      "source": [
        "!wget http://nlp.stanford.edu/data/glove.6B.zip\n",
        "!unzip glove.6B.zip"
      ],
      "execution_count": null,
      "outputs": [
        {
          "output_type": "stream",
          "name": "stdout",
          "text": [
            "--2021-12-05 23:15:31--  http://nlp.stanford.edu/data/glove.6B.zip\n",
            "Resolving nlp.stanford.edu (nlp.stanford.edu)... 171.64.67.140\n",
            "Connecting to nlp.stanford.edu (nlp.stanford.edu)|171.64.67.140|:80... connected.\n",
            "HTTP request sent, awaiting response... 302 Found\n",
            "Location: https://nlp.stanford.edu/data/glove.6B.zip [following]\n",
            "--2021-12-05 23:15:31--  https://nlp.stanford.edu/data/glove.6B.zip\n",
            "Connecting to nlp.stanford.edu (nlp.stanford.edu)|171.64.67.140|:443... connected.\n",
            "HTTP request sent, awaiting response... 301 Moved Permanently\n",
            "Location: http://downloads.cs.stanford.edu/nlp/data/glove.6B.zip [following]\n",
            "--2021-12-05 23:15:31--  http://downloads.cs.stanford.edu/nlp/data/glove.6B.zip\n",
            "Resolving downloads.cs.stanford.edu (downloads.cs.stanford.edu)... 171.64.64.22\n",
            "Connecting to downloads.cs.stanford.edu (downloads.cs.stanford.edu)|171.64.64.22|:80... connected.\n",
            "HTTP request sent, awaiting response... 200 OK\n",
            "Length: 862182613 (822M) [application/zip]\n",
            "Saving to: ‘glove.6B.zip’\n",
            "\n",
            "glove.6B.zip        100%[===================>] 822.24M  5.17MB/s    in 2m 40s  \n",
            "\n",
            "2021-12-05 23:18:11 (5.14 MB/s) - ‘glove.6B.zip’ saved [862182613/862182613]\n",
            "\n",
            "Archive:  glove.6B.zip\n",
            "  inflating: glove.6B.50d.txt        \n",
            "  inflating: glove.6B.100d.txt       \n",
            "  inflating: glove.6B.200d.txt       \n",
            "  inflating: glove.6B.300d.txt       \n"
          ]
        }
      ]
    },
    {
      "cell_type": "code",
      "metadata": {
        "colab": {
          "base_uri": "https://localhost:8080/"
        },
        "id": "zl_Fey8U4yiQ",
        "outputId": "85b1d895-c767-4c6b-c753-4cf3adfef6a4"
      },
      "source": [
        "!pwd\n",
        "!ls\n",
        "GLOVE_EMB = '/content/glove.6B.300d.txt'\n",
        "EMBEDDING_DIM = 300\n",
        "LR = 1e-3\n",
        "BATCH_SIZE = 1024\n",
        "EPOCHS = 10\n",
        "MODEL_PATH = '.../best_model.hdf5'"
      ],
      "execution_count": null,
      "outputs": [
        {
          "output_type": "stream",
          "name": "stdout",
          "text": [
            "/content\n",
            "glove.6B.100d.txt  glove.6B.300d.txt  glove.6B.zip\n",
            "glove.6B.200d.txt  glove.6B.50d.txt   sample_data\n"
          ]
        }
      ]
    },
    {
      "cell_type": "code",
      "metadata": {
        "colab": {
          "base_uri": "https://localhost:8080/"
        },
        "id": "2mtwf7Nw5zej",
        "outputId": "92b9f359-dfa2-44de-88c4-7bf593d58761"
      },
      "source": [
        "embeddings_index = {}\n",
        "\n",
        "f = open(GLOVE_EMB)\n",
        "for line in f:\n",
        "  values = line.split()\n",
        "  word = value = values[0]\n",
        "  coefs = np.asarray(values[1:], dtype='float32')\n",
        "  embeddings_index[word] = coefs\n",
        "f.close()\n",
        "\n",
        "print('Found %s word vectors.' %len(embeddings_index))"
      ],
      "execution_count": null,
      "outputs": [
        {
          "output_type": "stream",
          "name": "stdout",
          "text": [
            "Found 400000 word vectors.\n"
          ]
        }
      ]
    },
    {
      "cell_type": "code",
      "metadata": {
        "id": "E1z-bpYg3WHe"
      },
      "source": [
        "import numpy as np\n",
        "\n",
        "embedding_matrix = np.zeros((vocab_size, 300))\n",
        "for word, i in word_index.items():\n",
        "  embedding_vector = embeddings_index.get(word)\n",
        "  if embedding_vector is not None:\n",
        "    embedding_matrix[i] = embedding_vector"
      ],
      "execution_count": null,
      "outputs": []
    },
    {
      "cell_type": "code",
      "metadata": {
        "id": "iXGTA6w56HRk"
      },
      "source": [
        "import tensorflow as tf\n",
        "\n",
        "embedding_layer = tf.keras.layers.Embedding(vocab_size,\n",
        "                                          EMBEDDING_DIM,\n",
        "                                          weights=[embedding_matrix],\n",
        "                                          input_length=30,\n",
        "                                          trainable=False)"
      ],
      "execution_count": null,
      "outputs": []
    },
    {
      "cell_type": "code",
      "metadata": {
        "id": "sSiuRFLm6YON"
      },
      "source": [
        "from tensorflow.keras.layers import Conv1D, Bidirectional, LSTM, Dense, Input, Dropout\n",
        "from tensorflow.keras.layers import SpatialDropout1D\n",
        "from tensorflow.keras.callbacks import ModelCheckpoint"
      ],
      "execution_count": null,
      "outputs": []
    },
    {
      "cell_type": "markdown",
      "metadata": {
        "id": "iC2t8NXIJlLF"
      },
      "source": [
        "Estrutura da rede neural"
      ]
    },
    {
      "cell_type": "code",
      "metadata": {
        "colab": {
          "base_uri": "https://localhost:8080/"
        },
        "id": "qB5R95Ls6a_2",
        "outputId": "d076ad51-fc66-47e5-db60-5af36bc4297c"
      },
      "source": [
        "sequence_input = Input(shape=(30,), dtype='int32')\n",
        "embedding_sequences = embedding_layer(sequence_input)\n",
        "x = SpatialDropout1D(0.2)(embedding_sequences)\n",
        "x = Conv1D(64, 5, activation='relu')(x)\n",
        "x = Bidirectional(LSTM(64, dropout=0.2, recurrent_dropout=0.2))(x)\n",
        "x = Dense(512, activation='relu')(x)\n",
        "x = Dropout(0.5)(x)\n",
        "x = Dense(512, activation='relu')(x)\n",
        "outputs = Dense(1, activation='sigmoid')(x)\n",
        "model = tf.keras.Model(sequence_input, outputs)"
      ],
      "execution_count": null,
      "outputs": [
        {
          "output_type": "stream",
          "name": "stdout",
          "text": [
            "WARNING:tensorflow:Layer lstm will not use cuDNN kernels since it doesn't meet the criteria. It will use a generic GPU kernel as fallback when running on GPU.\n",
            "WARNING:tensorflow:Layer lstm will not use cuDNN kernels since it doesn't meet the criteria. It will use a generic GPU kernel as fallback when running on GPU.\n",
            "WARNING:tensorflow:Layer lstm will not use cuDNN kernels since it doesn't meet the criteria. It will use a generic GPU kernel as fallback when running on GPU.\n"
          ]
        }
      ]
    },
    {
      "cell_type": "code",
      "metadata": {
        "id": "LIXJ_TuK633G"
      },
      "source": [
        "from tensorflow.keras.optimizers import Adam\n",
        "from tensorflow.keras.callbacks import ReduceLROnPlateau\n",
        "\n",
        "model.compile(optimizer=Adam(learning_rate=LR), loss='binary_crossentropy',\n",
        "              metrics=['accuracy'])\n",
        "ReduceLROnPlateau = ReduceLROnPlateau(factor=0.1,\n",
        "                                     min_lr = 0.01,\n",
        "                                     monitor = 'val_loss',\n",
        "                                     verbose = 1)"
      ],
      "execution_count": null,
      "outputs": []
    },
    {
      "cell_type": "markdown",
      "metadata": {
        "id": "_OP3axFTQ6b1"
      },
      "source": [
        "Treinamento do modelo"
      ]
    },
    {
      "cell_type": "code",
      "metadata": {
        "colab": {
          "base_uri": "https://localhost:8080/"
        },
        "id": "1nHsiQsz68Km",
        "outputId": "2fc5e34d-c7a1-4e33-ed0e-9e11da71f4fa"
      },
      "source": [
        "history = model.fit(x_train, y_train, batch_size=1024, epochs=110,\n",
        "                    validation_data=(x_test, y_test), callbacks=[ReduceLROnPlateau])"
      ],
      "execution_count": null,
      "outputs": [
        {
          "output_type": "stream",
          "name": "stdout",
          "text": [
            "Epoch 1/110\n",
            "35/35 [==============================] - 18s 507ms/step - loss: 0.0981 - accuracy: 0.9619 - val_loss: 1.1897 - val_accuracy: 0.7104 - lr: 0.0010\n",
            "Epoch 2/110\n",
            "35/35 [==============================] - 17s 488ms/step - loss: 0.0982 - accuracy: 0.9619 - val_loss: 1.1772 - val_accuracy: 0.7049 - lr: 0.0010\n",
            "Epoch 3/110\n",
            "35/35 [==============================] - 17s 498ms/step - loss: 0.1039 - accuracy: 0.9600 - val_loss: 1.1763 - val_accuracy: 0.7047 - lr: 0.0010\n",
            "Epoch 4/110\n",
            "35/35 [==============================] - 17s 481ms/step - loss: 0.1062 - accuracy: 0.9590 - val_loss: 1.1995 - val_accuracy: 0.7049 - lr: 0.0010\n",
            "Epoch 5/110\n",
            "35/35 [==============================] - 17s 485ms/step - loss: 0.0988 - accuracy: 0.9611 - val_loss: 1.1821 - val_accuracy: 0.7098 - lr: 0.0010\n",
            "Epoch 6/110\n",
            "35/35 [==============================] - 18s 506ms/step - loss: 0.0970 - accuracy: 0.9630 - val_loss: 1.1758 - val_accuracy: 0.7055 - lr: 0.0010\n",
            "Epoch 7/110\n",
            "35/35 [==============================] - 17s 474ms/step - loss: 0.0974 - accuracy: 0.9624 - val_loss: 1.2085 - val_accuracy: 0.7102 - lr: 0.0010\n",
            "Epoch 8/110\n",
            "35/35 [==============================] - 16s 470ms/step - loss: 0.1026 - accuracy: 0.9608 - val_loss: 1.1211 - val_accuracy: 0.7094 - lr: 0.0010\n",
            "Epoch 9/110\n",
            "35/35 [==============================] - 17s 472ms/step - loss: 0.0946 - accuracy: 0.9627 - val_loss: 1.2428 - val_accuracy: 0.7074 - lr: 0.0010\n",
            "Epoch 10/110\n",
            "35/35 [==============================] - 17s 477ms/step - loss: 0.1018 - accuracy: 0.9599 - val_loss: 1.2194 - val_accuracy: 0.7057 - lr: 0.0010\n",
            "Epoch 11/110\n",
            "35/35 [==============================] - 17s 484ms/step - loss: 0.1025 - accuracy: 0.9605 - val_loss: 1.1810 - val_accuracy: 0.7055 - lr: 0.0010\n",
            "Epoch 12/110\n",
            "35/35 [==============================] - 16s 454ms/step - loss: 0.1004 - accuracy: 0.9602 - val_loss: 1.2038 - val_accuracy: 0.7070 - lr: 0.0010\n",
            "Epoch 13/110\n",
            "35/35 [==============================] - 16s 456ms/step - loss: 0.1014 - accuracy: 0.9612 - val_loss: 1.1986 - val_accuracy: 0.7074 - lr: 0.0010\n",
            "Epoch 14/110\n",
            "35/35 [==============================] - 17s 476ms/step - loss: 0.0959 - accuracy: 0.9631 - val_loss: 1.1958 - val_accuracy: 0.7067 - lr: 0.0010\n",
            "Epoch 15/110\n",
            "35/35 [==============================] - 16s 468ms/step - loss: 0.0998 - accuracy: 0.9605 - val_loss: 1.2043 - val_accuracy: 0.7099 - lr: 0.0010\n",
            "Epoch 16/110\n",
            "35/35 [==============================] - 17s 482ms/step - loss: 0.0975 - accuracy: 0.9625 - val_loss: 1.1448 - val_accuracy: 0.7077 - lr: 0.0010\n",
            "Epoch 17/110\n",
            "35/35 [==============================] - 16s 457ms/step - loss: 0.0982 - accuracy: 0.9625 - val_loss: 1.1771 - val_accuracy: 0.7101 - lr: 0.0010\n",
            "Epoch 18/110\n",
            "35/35 [==============================] - 17s 479ms/step - loss: 0.0939 - accuracy: 0.9636 - val_loss: 1.2167 - val_accuracy: 0.7128 - lr: 0.0010\n",
            "Epoch 19/110\n",
            "35/35 [==============================] - 16s 460ms/step - loss: 0.0966 - accuracy: 0.9636 - val_loss: 1.2268 - val_accuracy: 0.7094 - lr: 0.0010\n",
            "Epoch 20/110\n",
            "35/35 [==============================] - 17s 474ms/step - loss: 0.1007 - accuracy: 0.9611 - val_loss: 1.1629 - val_accuracy: 0.7064 - lr: 0.0010\n",
            "Epoch 21/110\n",
            "35/35 [==============================] - 16s 470ms/step - loss: 0.1027 - accuracy: 0.9604 - val_loss: 1.1732 - val_accuracy: 0.7048 - lr: 0.0010\n",
            "Epoch 22/110\n",
            "35/35 [==============================] - 16s 472ms/step - loss: 0.0959 - accuracy: 0.9624 - val_loss: 1.1572 - val_accuracy: 0.7084 - lr: 0.0010\n",
            "Epoch 23/110\n",
            "35/35 [==============================] - 16s 470ms/step - loss: 0.0925 - accuracy: 0.9644 - val_loss: 1.2190 - val_accuracy: 0.7085 - lr: 0.0010\n",
            "Epoch 24/110\n",
            "35/35 [==============================] - 16s 471ms/step - loss: 0.0948 - accuracy: 0.9631 - val_loss: 1.2432 - val_accuracy: 0.7071 - lr: 0.0010\n",
            "Epoch 25/110\n",
            "35/35 [==============================] - 17s 483ms/step - loss: 0.0968 - accuracy: 0.9620 - val_loss: 1.2444 - val_accuracy: 0.7085 - lr: 0.0010\n",
            "Epoch 26/110\n",
            "35/35 [==============================] - 16s 469ms/step - loss: 0.0944 - accuracy: 0.9626 - val_loss: 1.2376 - val_accuracy: 0.7044 - lr: 0.0010\n",
            "Epoch 27/110\n",
            "35/35 [==============================] - 16s 464ms/step - loss: 0.0984 - accuracy: 0.9621 - val_loss: 1.1470 - val_accuracy: 0.7035 - lr: 0.0010\n",
            "Epoch 28/110\n",
            "35/35 [==============================] - 16s 466ms/step - loss: 0.0980 - accuracy: 0.9626 - val_loss: 1.2909 - val_accuracy: 0.7068 - lr: 0.0010\n",
            "Epoch 29/110\n",
            "35/35 [==============================] - 17s 480ms/step - loss: 0.0950 - accuracy: 0.9631 - val_loss: 1.1879 - val_accuracy: 0.7072 - lr: 0.0010\n",
            "Epoch 30/110\n",
            "35/35 [==============================] - 16s 448ms/step - loss: 0.0936 - accuracy: 0.9644 - val_loss: 1.2750 - val_accuracy: 0.7055 - lr: 0.0010\n",
            "Epoch 31/110\n",
            "35/35 [==============================] - 17s 470ms/step - loss: 0.0908 - accuracy: 0.9651 - val_loss: 1.2113 - val_accuracy: 0.7064 - lr: 0.0010\n",
            "Epoch 32/110\n",
            "35/35 [==============================] - 16s 464ms/step - loss: 0.0956 - accuracy: 0.9630 - val_loss: 1.2555 - val_accuracy: 0.7084 - lr: 0.0010\n",
            "Epoch 33/110\n",
            "35/35 [==============================] - 17s 476ms/step - loss: 0.0975 - accuracy: 0.9636 - val_loss: 1.2338 - val_accuracy: 0.7012 - lr: 0.0010\n",
            "Epoch 34/110\n",
            "35/35 [==============================] - 17s 477ms/step - loss: 0.1042 - accuracy: 0.9595 - val_loss: 1.1735 - val_accuracy: 0.7075 - lr: 0.0010\n",
            "Epoch 35/110\n",
            "35/35 [==============================] - 17s 470ms/step - loss: 0.0914 - accuracy: 0.9650 - val_loss: 1.2245 - val_accuracy: 0.7070 - lr: 0.0010\n",
            "Epoch 36/110\n",
            "35/35 [==============================] - 17s 486ms/step - loss: 0.0939 - accuracy: 0.9646 - val_loss: 1.1671 - val_accuracy: 0.7063 - lr: 0.0010\n",
            "Epoch 37/110\n",
            "35/35 [==============================] - 16s 458ms/step - loss: 0.0894 - accuracy: 0.9662 - val_loss: 1.2518 - val_accuracy: 0.7077 - lr: 0.0010\n",
            "Epoch 38/110\n",
            "35/35 [==============================] - 16s 469ms/step - loss: 0.0953 - accuracy: 0.9616 - val_loss: 1.2590 - val_accuracy: 0.7093 - lr: 0.0010\n",
            "Epoch 39/110\n",
            "35/35 [==============================] - 17s 482ms/step - loss: 0.0989 - accuracy: 0.9612 - val_loss: 1.1817 - val_accuracy: 0.7034 - lr: 0.0010\n",
            "Epoch 40/110\n",
            "35/35 [==============================] - 16s 468ms/step - loss: 0.1024 - accuracy: 0.9595 - val_loss: 1.1506 - val_accuracy: 0.7053 - lr: 0.0010\n",
            "Epoch 41/110\n",
            "35/35 [==============================] - 17s 474ms/step - loss: 0.0956 - accuracy: 0.9632 - val_loss: 1.2492 - val_accuracy: 0.7061 - lr: 0.0010\n",
            "Epoch 42/110\n",
            "35/35 [==============================] - 16s 466ms/step - loss: 0.0916 - accuracy: 0.9645 - val_loss: 1.2405 - val_accuracy: 0.7038 - lr: 0.0010\n",
            "Epoch 43/110\n",
            "35/35 [==============================] - 17s 474ms/step - loss: 0.0938 - accuracy: 0.9624 - val_loss: 1.1820 - val_accuracy: 0.7047 - lr: 0.0010\n",
            "Epoch 44/110\n",
            "35/35 [==============================] - 16s 465ms/step - loss: 0.0916 - accuracy: 0.9642 - val_loss: 1.1997 - val_accuracy: 0.7065 - lr: 0.0010\n",
            "Epoch 45/110\n",
            "35/35 [==============================] - 16s 470ms/step - loss: 0.0917 - accuracy: 0.9643 - val_loss: 1.2358 - val_accuracy: 0.7076 - lr: 0.0010\n",
            "Epoch 46/110\n",
            "35/35 [==============================] - 16s 468ms/step - loss: 0.0957 - accuracy: 0.9622 - val_loss: 1.3121 - val_accuracy: 0.7046 - lr: 0.0010\n",
            "Epoch 47/110\n",
            "35/35 [==============================] - 16s 454ms/step - loss: 0.0927 - accuracy: 0.9645 - val_loss: 1.2212 - val_accuracy: 0.7083 - lr: 0.0010\n",
            "Epoch 48/110\n",
            "35/35 [==============================] - 16s 466ms/step - loss: 0.0874 - accuracy: 0.9660 - val_loss: 1.2739 - val_accuracy: 0.7073 - lr: 0.0010\n",
            "Epoch 49/110\n",
            "35/35 [==============================] - 17s 487ms/step - loss: 0.0885 - accuracy: 0.9653 - val_loss: 1.2474 - val_accuracy: 0.7056 - lr: 0.0010\n",
            "Epoch 50/110\n",
            "35/35 [==============================] - 16s 469ms/step - loss: 0.0907 - accuracy: 0.9648 - val_loss: 1.2339 - val_accuracy: 0.7057 - lr: 0.0010\n",
            "Epoch 51/110\n",
            "35/35 [==============================] - 16s 470ms/step - loss: 0.0934 - accuracy: 0.9640 - val_loss: 1.1528 - val_accuracy: 0.7010 - lr: 0.0010\n",
            "Epoch 52/110\n",
            "35/35 [==============================] - 16s 456ms/step - loss: 0.0906 - accuracy: 0.9655 - val_loss: 1.2427 - val_accuracy: 0.7053 - lr: 0.0010\n",
            "Epoch 53/110\n",
            "35/35 [==============================] - 16s 455ms/step - loss: 0.0926 - accuracy: 0.9638 - val_loss: 1.2458 - val_accuracy: 0.7047 - lr: 0.0010\n",
            "Epoch 54/110\n",
            "35/35 [==============================] - 16s 464ms/step - loss: 0.0893 - accuracy: 0.9654 - val_loss: 1.2198 - val_accuracy: 0.7061 - lr: 0.0010\n",
            "Epoch 55/110\n",
            "35/35 [==============================] - 17s 491ms/step - loss: 0.0906 - accuracy: 0.9653 - val_loss: 1.1392 - val_accuracy: 0.7081 - lr: 0.0010\n",
            "Epoch 56/110\n",
            "35/35 [==============================] - 16s 464ms/step - loss: 0.0964 - accuracy: 0.9631 - val_loss: 1.2610 - val_accuracy: 0.7036 - lr: 0.0010\n",
            "Epoch 57/110\n",
            "35/35 [==============================] - 16s 469ms/step - loss: 0.0921 - accuracy: 0.9643 - val_loss: 1.2518 - val_accuracy: 0.7071 - lr: 0.0010\n",
            "Epoch 58/110\n",
            "35/35 [==============================] - 17s 473ms/step - loss: 0.0909 - accuracy: 0.9642 - val_loss: 1.1976 - val_accuracy: 0.7074 - lr: 0.0010\n",
            "Epoch 59/110\n",
            "35/35 [==============================] - 16s 467ms/step - loss: 0.0919 - accuracy: 0.9655 - val_loss: 1.2337 - val_accuracy: 0.7053 - lr: 0.0010\n",
            "Epoch 60/110\n",
            "35/35 [==============================] - 16s 470ms/step - loss: 0.0901 - accuracy: 0.9658 - val_loss: 1.2354 - val_accuracy: 0.6997 - lr: 0.0010\n",
            "Epoch 61/110\n",
            "35/35 [==============================] - 17s 490ms/step - loss: 0.0905 - accuracy: 0.9657 - val_loss: 1.3189 - val_accuracy: 0.7039 - lr: 0.0010\n",
            "Epoch 62/110\n",
            "35/35 [==============================] - 16s 467ms/step - loss: 0.0921 - accuracy: 0.9655 - val_loss: 1.2735 - val_accuracy: 0.7062 - lr: 0.0010\n",
            "Epoch 63/110\n",
            "35/35 [==============================] - 16s 463ms/step - loss: 0.0932 - accuracy: 0.9640 - val_loss: 1.1990 - val_accuracy: 0.7014 - lr: 0.0010\n",
            "Epoch 64/110\n",
            "35/35 [==============================] - 17s 471ms/step - loss: 0.0901 - accuracy: 0.9657 - val_loss: 1.2330 - val_accuracy: 0.7094 - lr: 0.0010\n",
            "Epoch 65/110\n",
            "35/35 [==============================] - 16s 458ms/step - loss: 0.0892 - accuracy: 0.9656 - val_loss: 1.2077 - val_accuracy: 0.7066 - lr: 0.0010\n",
            "Epoch 66/110\n",
            "35/35 [==============================] - 16s 458ms/step - loss: 0.0926 - accuracy: 0.9637 - val_loss: 1.1838 - val_accuracy: 0.7053 - lr: 0.0010\n",
            "Epoch 67/110\n",
            "35/35 [==============================] - 16s 456ms/step - loss: 0.0916 - accuracy: 0.9646 - val_loss: 1.3231 - val_accuracy: 0.7018 - lr: 0.0010\n",
            "Epoch 68/110\n",
            "35/35 [==============================] - 16s 456ms/step - loss: 0.0918 - accuracy: 0.9641 - val_loss: 1.2212 - val_accuracy: 0.7065 - lr: 0.0010\n",
            "Epoch 69/110\n",
            "35/35 [==============================] - 16s 454ms/step - loss: 0.0866 - accuracy: 0.9666 - val_loss: 1.2693 - val_accuracy: 0.7026 - lr: 0.0010\n",
            "Epoch 70/110\n",
            "35/35 [==============================] - 16s 456ms/step - loss: 0.0883 - accuracy: 0.9668 - val_loss: 1.2610 - val_accuracy: 0.7041 - lr: 0.0010\n",
            "Epoch 71/110\n",
            "35/35 [==============================] - 16s 463ms/step - loss: 0.0908 - accuracy: 0.9655 - val_loss: 1.2765 - val_accuracy: 0.7061 - lr: 0.0010\n",
            "Epoch 72/110\n",
            "35/35 [==============================] - 17s 477ms/step - loss: 0.0908 - accuracy: 0.9659 - val_loss: 1.2885 - val_accuracy: 0.7011 - lr: 0.0010\n",
            "Epoch 73/110\n",
            "35/35 [==============================] - 16s 461ms/step - loss: 0.0920 - accuracy: 0.9657 - val_loss: 1.3225 - val_accuracy: 0.7028 - lr: 0.0010\n",
            "Epoch 74/110\n",
            "35/35 [==============================] - 17s 475ms/step - loss: 0.0886 - accuracy: 0.9662 - val_loss: 1.2446 - val_accuracy: 0.7045 - lr: 0.0010\n",
            "Epoch 75/110\n",
            "35/35 [==============================] - 16s 464ms/step - loss: 0.0938 - accuracy: 0.9650 - val_loss: 1.1784 - val_accuracy: 0.7063 - lr: 0.0010\n",
            "Epoch 76/110\n",
            "35/35 [==============================] - 17s 472ms/step - loss: 0.0846 - accuracy: 0.9680 - val_loss: 1.2495 - val_accuracy: 0.7044 - lr: 0.0010\n",
            "Epoch 77/110\n",
            "35/35 [==============================] - 16s 464ms/step - loss: 0.0841 - accuracy: 0.9684 - val_loss: 1.2882 - val_accuracy: 0.6997 - lr: 0.0010\n",
            "Epoch 78/110\n",
            "35/35 [==============================] - 16s 464ms/step - loss: 0.0869 - accuracy: 0.9674 - val_loss: 1.3061 - val_accuracy: 0.7066 - lr: 0.0010\n",
            "Epoch 79/110\n",
            "35/35 [==============================] - 17s 496ms/step - loss: 0.0887 - accuracy: 0.9663 - val_loss: 1.2309 - val_accuracy: 0.7046 - lr: 0.0010\n",
            "Epoch 80/110\n",
            "35/35 [==============================] - 17s 478ms/step - loss: 0.0823 - accuracy: 0.9686 - val_loss: 1.2828 - val_accuracy: 0.7032 - lr: 0.0010\n",
            "Epoch 81/110\n",
            "35/35 [==============================] - 17s 474ms/step - loss: 0.0801 - accuracy: 0.9685 - val_loss: 1.2847 - val_accuracy: 0.7047 - lr: 0.0010\n",
            "Epoch 82/110\n",
            "35/35 [==============================] - 16s 469ms/step - loss: 0.0859 - accuracy: 0.9668 - val_loss: 1.1800 - val_accuracy: 0.7034 - lr: 0.0010\n",
            "Epoch 83/110\n",
            "35/35 [==============================] - 16s 451ms/step - loss: 0.0863 - accuracy: 0.9675 - val_loss: 1.2138 - val_accuracy: 0.7059 - lr: 0.0010\n",
            "Epoch 84/110\n",
            "35/35 [==============================] - 16s 466ms/step - loss: 0.0857 - accuracy: 0.9666 - val_loss: 1.2722 - val_accuracy: 0.7036 - lr: 0.0010\n",
            "Epoch 85/110\n",
            "35/35 [==============================] - 16s 456ms/step - loss: 0.0873 - accuracy: 0.9668 - val_loss: 1.2290 - val_accuracy: 0.6982 - lr: 0.0010\n",
            "Epoch 86/110\n",
            "35/35 [==============================] - 16s 457ms/step - loss: 0.0898 - accuracy: 0.9653 - val_loss: 1.2183 - val_accuracy: 0.7032 - lr: 0.0010\n",
            "Epoch 87/110\n",
            "35/35 [==============================] - 16s 469ms/step - loss: 0.0857 - accuracy: 0.9663 - val_loss: 1.3099 - val_accuracy: 0.7074 - lr: 0.0010\n",
            "Epoch 88/110\n",
            "35/35 [==============================] - 16s 460ms/step - loss: 0.0846 - accuracy: 0.9683 - val_loss: 1.2514 - val_accuracy: 0.7023 - lr: 0.0010\n",
            "Epoch 89/110\n",
            "35/35 [==============================] - 17s 478ms/step - loss: 0.0833 - accuracy: 0.9685 - val_loss: 1.3159 - val_accuracy: 0.7038 - lr: 0.0010\n",
            "Epoch 90/110\n",
            "35/35 [==============================] - 16s 464ms/step - loss: 0.0825 - accuracy: 0.9683 - val_loss: 1.3159 - val_accuracy: 0.6999 - lr: 0.0010\n",
            "Epoch 91/110\n",
            "35/35 [==============================] - 16s 465ms/step - loss: 0.0844 - accuracy: 0.9677 - val_loss: 1.2632 - val_accuracy: 0.7027 - lr: 0.0010\n",
            "Epoch 92/110\n",
            "35/35 [==============================] - 17s 477ms/step - loss: 0.0866 - accuracy: 0.9673 - val_loss: 1.2506 - val_accuracy: 0.7034 - lr: 0.0010\n",
            "Epoch 93/110\n",
            "35/35 [==============================] - 16s 460ms/step - loss: 0.0864 - accuracy: 0.9667 - val_loss: 1.2553 - val_accuracy: 0.6976 - lr: 0.0010\n",
            "Epoch 94/110\n",
            "35/35 [==============================] - 16s 466ms/step - loss: 0.0845 - accuracy: 0.9680 - val_loss: 1.2950 - val_accuracy: 0.7039 - lr: 0.0010\n",
            "Epoch 95/110\n",
            "35/35 [==============================] - 15s 441ms/step - loss: 0.0849 - accuracy: 0.9683 - val_loss: 1.3409 - val_accuracy: 0.7026 - lr: 0.0010\n",
            "Epoch 96/110\n",
            "35/35 [==============================] - 16s 462ms/step - loss: 0.0860 - accuracy: 0.9673 - val_loss: 1.2492 - val_accuracy: 0.7035 - lr: 0.0010\n",
            "Epoch 97/110\n",
            "35/35 [==============================] - 17s 471ms/step - loss: 0.0851 - accuracy: 0.9674 - val_loss: 1.3282 - val_accuracy: 0.7055 - lr: 0.0010\n",
            "Epoch 98/110\n",
            "35/35 [==============================] - 17s 478ms/step - loss: 0.0852 - accuracy: 0.9665 - val_loss: 1.2816 - val_accuracy: 0.7044 - lr: 0.0010\n",
            "Epoch 99/110\n",
            "35/35 [==============================] - 17s 469ms/step - loss: 0.0867 - accuracy: 0.9674 - val_loss: 1.2375 - val_accuracy: 0.7079 - lr: 0.0010\n",
            "Epoch 100/110\n",
            "35/35 [==============================] - 17s 476ms/step - loss: 0.0816 - accuracy: 0.9694 - val_loss: 1.2828 - val_accuracy: 0.7062 - lr: 0.0010\n",
            "Epoch 101/110\n",
            "35/35 [==============================] - 16s 471ms/step - loss: 0.0839 - accuracy: 0.9673 - val_loss: 1.2950 - val_accuracy: 0.7046 - lr: 0.0010\n",
            "Epoch 102/110\n",
            "35/35 [==============================] - 16s 452ms/step - loss: 0.0813 - accuracy: 0.9684 - val_loss: 1.3065 - val_accuracy: 0.7054 - lr: 0.0010\n",
            "Epoch 103/110\n",
            "35/35 [==============================] - 16s 468ms/step - loss: 0.0865 - accuracy: 0.9672 - val_loss: 1.2424 - val_accuracy: 0.7021 - lr: 0.0010\n",
            "Epoch 104/110\n",
            "35/35 [==============================] - 16s 467ms/step - loss: 0.0868 - accuracy: 0.9665 - val_loss: 1.2776 - val_accuracy: 0.7032 - lr: 0.0010\n",
            "Epoch 105/110\n",
            "35/35 [==============================] - 16s 461ms/step - loss: 0.0862 - accuracy: 0.9685 - val_loss: 1.2402 - val_accuracy: 0.7043 - lr: 0.0010\n",
            "Epoch 106/110\n",
            "35/35 [==============================] - 16s 469ms/step - loss: 0.0783 - accuracy: 0.9703 - val_loss: 1.3046 - val_accuracy: 0.7030 - lr: 0.0010\n",
            "Epoch 107/110\n",
            "35/35 [==============================] - 16s 447ms/step - loss: 0.0809 - accuracy: 0.9687 - val_loss: 1.2647 - val_accuracy: 0.6973 - lr: 0.0010\n",
            "Epoch 108/110\n",
            "35/35 [==============================] - 16s 456ms/step - loss: 0.0775 - accuracy: 0.9707 - val_loss: 1.3314 - val_accuracy: 0.7066 - lr: 0.0010\n",
            "Epoch 109/110\n",
            "35/35 [==============================] - 16s 468ms/step - loss: 0.0804 - accuracy: 0.9711 - val_loss: 1.3234 - val_accuracy: 0.7061 - lr: 0.0010\n",
            "Epoch 110/110\n",
            "35/35 [==============================] - 16s 448ms/step - loss: 0.0903 - accuracy: 0.9659 - val_loss: 1.2472 - val_accuracy: 0.7040 - lr: 0.0010\n"
          ]
        }
      ]
    },
    {
      "cell_type": "markdown",
      "metadata": {
        "id": "RvuADu6TQ_z3"
      },
      "source": [
        "Plotagem dos resultados do modelo"
      ]
    },
    {
      "cell_type": "code",
      "metadata": {
        "colab": {
          "base_uri": "https://localhost:8080/",
          "height": 312
        },
        "id": "Dn5nk_1x8JeU",
        "outputId": "ef8e729f-6123-4670-9824-bfa51a0250f9"
      },
      "source": [
        "import matplotlib.pyplot as plt\n",
        "s, (at, al) = plt.subplots(2,1)\n",
        "at.plot(history.history['accuracy'], c= 'b')\n",
        "at.plot(history.history['val_accuracy'], c='r')\n",
        "at.set_title('model accuracy')\n",
        "at.set_ylabel('accuracy')\n",
        "at.set_xlabel('epoch')\n",
        "at.legend(['LSTM_train', 'LSTM_val'], loc='upper left')\n",
        "\n",
        "al.plot(history.history['loss'], c='m')\n",
        "al.plot(history.history['val_loss'], c='c')\n",
        "al.set_title('model loss')\n",
        "al.set_ylabel('loss')\n",
        "al.set_xlabel('epoch')\n",
        "al.legend(['train', 'val'], loc = 'upper left')\n",
        "\n",
        "\n",
        "\n"
      ],
      "execution_count": null,
      "outputs": [
        {
          "output_type": "execute_result",
          "data": {
            "text/plain": [
              "<matplotlib.legend.Legend at 0x7fdcd314a350>"
            ]
          },
          "metadata": {},
          "execution_count": 48
        },
        {
          "output_type": "display_data",
          "data": {
            "image/png": "[encoded data removed]",
            "text/plain": [
              "<Figure size 432x288 with 2 Axes>"
            ]
          },
          "metadata": {
            "needs_background": "light"
          }
        }
      ]
    },
    {
      "cell_type": "markdown",
      "metadata": {
        "id": "68SiMjcWqD_m"
      },
      "source": [
        "####**Validação do professor**"
      ]
    },
    {
      "cell_type": "markdown",
      "metadata": {
        "id": "T24EasckqG2I"
      },
      "source": [
        "Consolidar apenas os scripts do seu **modelo campeão**, desde o carregamento do dataframe, separação das amostras, tratamentos utilizados (funções, limpezas, etc.), criação dos objetos de vetorização dos textos e modelo treinado e outras implementações utilizadas no processo de desenvolvimento do modelo."
      ]
    },
    {
      "cell_type": "code",
      "metadata": {
        "id": "ZxqHA-XCrqsD"
      },
      "source": [
        ""
      ],
      "execution_count": null,
      "outputs": []
    },
    {
      "cell_type": "code",
      "metadata": {
        "id": "VFA-CYfawkEJ"
      },
      "source": [
        ""
      ],
      "execution_count": null,
      "outputs": []
    },
    {
      "cell_type": "code",
      "metadata": {
        "id": "BuJtvcfXo3J4"
      },
      "source": [
        ""
      ],
      "execution_count": null,
      "outputs": []
    },
    {
      "cell_type": "code",
      "metadata": {
        "id": "6ULYNH6-o3Hf"
      },
      "source": [
        ""
      ],
      "execution_count": null,
      "outputs": []
    },
    {
      "cell_type": "code",
      "metadata": {
        "id": "3ClM-JTJo3FK"
      },
      "source": [
        ""
      ],
      "execution_count": null,
      "outputs": []
    }
  ]
}