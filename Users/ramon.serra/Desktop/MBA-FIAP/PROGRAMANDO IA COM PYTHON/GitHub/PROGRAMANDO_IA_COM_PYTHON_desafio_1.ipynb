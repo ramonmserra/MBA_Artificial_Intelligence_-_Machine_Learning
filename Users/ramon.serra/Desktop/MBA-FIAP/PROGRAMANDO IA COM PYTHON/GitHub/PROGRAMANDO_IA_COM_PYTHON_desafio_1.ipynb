{
 "cells": [
  {
   "cell_type": "markdown",
   "metadata": {},
   "source": [
    "# Desafio 1 - Ramon Vítor Malaquias Serra"
   ]
  },
  {
   "cell_type": "markdown",
   "metadata": {},
   "source": [
    "### Conjectura de Legendre\n",
    "\n",
    "A Conjectura de Legendre, enunciada por de Adrien-Marie Legendre, afirma que existe sempre um número primo entre $n^2 $ e $(n+1)^2$, para qualquer $n$ inteiro positivo\n",
    "\n",
    "Seu desafio será criar uma função que, dado um input (inteiro n) retorne todos os números primos entre $n^2$ e $(n+1)^2$. \n",
    "\n",
    "Exemplo:\n",
    "\n",
    "    > input: 4\n",
    "    \n",
    "    > output: [17,19,23]"
   ]
  },
  {
   "cell_type": "code",
   "execution_count": 75,
   "metadata": {},
   "outputs": [
    {
     "name": "stdin",
     "output_type": "stream",
     "text": [
      "Digite um número 7\n"
     ]
    },
    {
     "data": {
      "text/plain": [
       "True"
      ]
     },
     "execution_count": 75,
     "metadata": {},
     "output_type": "execute_result"
    }
   ],
   "source": [
    "def isprime(n):\n",
    "    y = 0\n",
    "    \n",
    "    for i in range(1,n+1):\n",
    "        if n % i == 0:\n",
    "            y += 1\n",
    "    if y ==2 :\n",
    "        return True\n",
    "    else:\n",
    "        return False\n",
    "    \n",
    "isprime(int(input(\"Digite um número\")))           \n",
    "\n",
    "    # TODO: implemente uma função que retorne TRUE se um número é ou não primo"
   ]
  },
  {
   "cell_type": "code",
   "execution_count": 76,
   "metadata": {},
   "outputs": [
    {
     "name": "stdin",
     "output_type": "stream",
     "text": [
      "Digite um número 4\n"
     ]
    },
    {
     "data": {
      "text/plain": [
       "[17, 19, 23]"
      ]
     },
     "execution_count": 76,
     "metadata": {},
     "output_type": "execute_result"
    }
   ],
   "source": [
    "def LegendreConjecture(n):\n",
    "\n",
    "    a = n**2\n",
    "    b = (n+1)**2\n",
    "    lista_primos = []\n",
    "    \n",
    "    for i in range(a,b+1):\n",
    "        y = 0\n",
    "        \n",
    "        for z in range(1,i+1):\n",
    "            \n",
    "            if i % z == 0:\n",
    "                y += 1\n",
    "        if (y == 2):\n",
    "            \n",
    "            lista_primos.append(i)\n",
    "        \n",
    "    return lista_primos\n",
    "            \n",
    "LegendreConjecture(int(input(\"Digite um número\")))\n",
    "\n",
    "\n",
    "\n",
    "\n",
    "    # TODO: implemente uma função que retorne uma lista contendo os números primos entre n^2 e (n+1)^2"
   ]
  },
  {
   "cell_type": "markdown",
   "metadata": {},
   "source": [
    "## Classe de leitura de arquivo\n",
    "\n",
    "Crie uma classe que\n",
    "\n",
    "        > crie um método que tenta ler um arquivo de texto (.txt)\n",
    "        > crie um método usando regex para extrair datas do texto. Considere apenas os dois tipos: dd/mm/aaaa e d/m/aa\n",
    "        > crie um método que utilize Counter para contar a quantidade de cada caracter"
   ]
  },
  {
   "cell_type": "code",
   "execution_count": 78,
   "metadata": {},
   "outputs": [
    {
     "name": "stdin",
     "output_type": "stream",
     "text": [
      "Digite o nome do arquivo com a extensão:  arquivo.txt\n"
     ]
    },
    {
     "name": "stdout",
     "output_type": "stream",
     "text": [
      "O conteúdo do arquivo é: \n",
      "OlÃ¡, teste 12/02/2021\n",
      "\n",
      "1/2/92\n",
      "\n",
      "ola\n",
      "\n",
      "22/08/1992\n",
      "\n",
      "Teste para o trabalho da matÃ©ria PROGRAMANDO IA COM PYTHON que deverÃ¡ ser entregue no dia 23/05/2021\n",
      "\n",
      "As datas presentes no arquivo, são: \n",
      "\n",
      "['12/02/2021', '1/2/92', '22/08/1992', '23/05/2021']\n",
      "\n",
      " A quantidade de caracteres  são: \n",
      "Counter({' ': 18, '2': 12, 'e': 11, 'a': 9, '/': 8, '\\n': 8, 't': 6, 'r': 6, 'O': 5, '1': 5, '0': 5, 'o': 4, 'l': 3, 'Ã': 3, 's': 3, '9': 3, 'd': 3, 'A': 3, '¡': 2, 'T': 2, 'i': 2, 'P': 2, 'R': 2, 'M': 2, 'N': 2, 'u': 2, 'n': 2, ',': 1, '8': 1, 'p': 1, 'b': 1, 'h': 1, 'm': 1, '©': 1, 'G': 1, 'D': 1, 'I': 1, 'C': 1, 'Y': 1, 'H': 1, 'q': 1, 'v': 1, 'g': 1, '3': 1, '5': 1})\n"
     ]
    }
   ],
   "source": [
    "import sys\n",
    "import re\n",
    "import collections as cl\n",
    "\n",
    "try:\n",
    "\n",
    "    class ExtractTextInformation():\n",
    "\n",
    "        def __init__(self,NomeArquivo ):\n",
    "            self.arquivo = NomeArquivo\n",
    "\n",
    "        def LerArquivo(self):\n",
    "            temp = open(self.arquivo,'r')\n",
    "            conteudo_arquivo = temp.read()\n",
    "            temp.close()\n",
    "\n",
    "            return conteudo_arquivo\n",
    "\n",
    "\n",
    "\n",
    "\n",
    "\n",
    "\n",
    "        def RetornaDatas(self):\n",
    "\n",
    "            temp = open(self.arquivo,'r')\n",
    "            lista_datas = []\n",
    "            lista_datas = re.findall(r'(\\d{1,2}/\\d{1,2}/\\d{2,4})',temp.read())\n",
    "            temp.close()\n",
    "            return lista_datas\n",
    "\n",
    "\n",
    "\n",
    "        def ContaCaracter(self):\n",
    "            temp = open(self.arquivo,'r')\n",
    "            caracter = re.findall('[\\d]|[\\D]',temp.read())\n",
    "            counter = cl.Counter(caracter)\n",
    "            temp.close()\n",
    "            return counter\n",
    "\n",
    "\n",
    "\n",
    "    a = input(\"Digite o nome do arquivo com a extensão: \")\n",
    "    arquivo = ExtractTextInformation(a)\n",
    "    print('O conteúdo do arquivo é: \\n' + arquivo.LerArquivo())\n",
    "\n",
    "    print(\"\\nAs datas presentes no arquivo, são: \\n\")\n",
    "    print(arquivo.RetornaDatas())\n",
    "\n",
    "    print(\"\\n A quantidade de caracteres  são: \")\n",
    "    print(arquivo.ContaCaracter())\n",
    "        \n",
    "except FileNotFoundError :\n",
    "    print(\"Verifique se o arquivo existe no diretório \")            \n",
    "            \n",
    "        \n",
    "        \n",
    "        \n",
    "        \n",
    "        \n",
    "        \n"
   ]
  },
  {
   "cell_type": "code",
   "execution_count": null,
   "metadata": {},
   "outputs": [],
   "source": []
  },
  {
   "cell_type": "code",
   "execution_count": null,
   "metadata": {},
   "outputs": [],
   "source": []
  }
 ],
 "metadata": {
  "kernelspec": {
   "display_name": "Python 3",
   "language": "python",
   "name": "python3"
  },
  "language_info": {
   "codemirror_mode": {
    "name": "ipython",
    "version": 3
   },
   "file_extension": ".py",
   "mimetype": "text/x-python",
   "name": "python",
   "nbconvert_exporter": "python",
   "pygments_lexer": "ipython3",
   "version": "3.8.5"
  }
 },
 "nbformat": 4,
 "nbformat_minor": 4
}
